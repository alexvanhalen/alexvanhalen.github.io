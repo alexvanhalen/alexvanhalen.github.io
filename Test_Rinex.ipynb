{
  "nbformat": 4,
  "nbformat_minor": 0,
  "metadata": {
    "colab": {
      "name": "Test_Rinex.ipynb",
      "version": "0.3.2",
      "provenance": [],
      "collapsed_sections": [],
      "include_colab_link": true
    },
    "kernelspec": {
      "name": "python3",
      "display_name": "Python 3"
    }
  },
  "cells": [
    {
      "cell_type": "markdown",
      "metadata": {
        "id": "view-in-github",
        "colab_type": "text"
      },
      "source": [
        "<a href=\"https://colab.research.google.com/github/alexvanhalen/alexvanhalen.github.io/blob/master/Test_Rinex.ipynb\" target=\"_parent\"><img src=\"https://colab.research.google.com/assets/colab-badge.svg\" alt=\"Open In Colab\"/></a>"
      ]
    },
    {
      "cell_type": "markdown",
      "metadata": {
        "id": "vBpyl7p0akic",
        "colab_type": "text"
      },
      "source": [
        "先安裝georinex，直接pip install即可，不用clone git，github上面放的是beta版。"
      ]
    },
    {
      "cell_type": "code",
      "metadata": {
        "id": "z2j00ID8zLRb",
        "colab_type": "code",
        "outputId": "1edb74a9-9859-400f-be10-b2015e071d28",
        "colab": {
          "base_uri": "https://localhost:8080/",
          "height": 318
        }
      },
      "source": [
        "!pip install georinex"
      ],
      "execution_count": 1,
      "outputs": [
        {
          "output_type": "stream",
          "text": [
            "Collecting georinex\n",
            "\u001b[?25l  Downloading https://files.pythonhosted.org/packages/0b/0e/ef12ce41880b3e5bc7da87210ae00325215db4ea7746ee7f1f92320e585a/georinex-1.11.0.tar.gz (6.5MB)\n",
            "\u001b[K     |████████████████████████████████| 6.5MB 4.7MB/s \n",
            "\u001b[?25hRequirement already satisfied: python-dateutil in /usr/local/lib/python3.6/dist-packages (from georinex) (2.5.3)\n",
            "Requirement already satisfied: numpy in /usr/local/lib/python3.6/dist-packages (from georinex) (1.16.4)\n",
            "Requirement already satisfied: xarray>=0.11 in /usr/local/lib/python3.6/dist-packages (from georinex) (0.11.3)\n",
            "Requirement already satisfied: six>=1.5 in /usr/local/lib/python3.6/dist-packages (from python-dateutil->georinex) (1.12.0)\n",
            "Requirement already satisfied: pandas>=0.19.2 in /usr/local/lib/python3.6/dist-packages (from xarray>=0.11->georinex) (0.24.2)\n",
            "Requirement already satisfied: pytz>=2011k in /usr/local/lib/python3.6/dist-packages (from pandas>=0.19.2->xarray>=0.11->georinex) (2018.9)\n",
            "Building wheels for collected packages: georinex\n",
            "  Building wheel for georinex (setup.py) ... \u001b[?25l\u001b[?25hdone\n",
            "  Created wheel for georinex: filename=georinex-1.11.0-cp36-none-any.whl size=40195 sha256=b4fa09df84fa493ea96eaa3900844316e0c717029dee84ba25876a189a5b311c\n",
            "  Stored in directory: /root/.cache/pip/wheels/c2/05/21/8c5c752b30b65770743e0c41c2dcff731371e39c07172106c1\n",
            "Successfully built georinex\n",
            "Installing collected packages: georinex\n",
            "Successfully installed georinex-1.11.0\n"
          ],
          "name": "stdout"
        }
      ]
    },
    {
      "cell_type": "markdown",
      "metadata": {
        "id": "ktWe9U9XbD1G",
        "colab_type": "text"
      },
      "source": [
        "安裝完之後，可以直接import，取名為gr。gr.load()可以將rinex檔案load進來，程式本身自己會判斷是observation (副檔名通常是.xxo)，還是navigation (副檔名通常是.xxn)。因為這邊要計算衛星軌道，所以先讀取navigation檔案。"
      ]
    },
    {
      "cell_type": "code",
      "metadata": {
        "id": "1H2deIbKV4s5",
        "colab_type": "code",
        "colab": {
          "base_uri": "https://localhost:8080/",
          "height": 721
        },
        "outputId": "d5fd81a5-fb53-4194-ccf2-b497a637042c"
      },
      "source": [
        "import georinex as gr\n",
        "nav = gr.load('test.19n')\n",
        "\n",
        "print(nav)"
      ],
      "execution_count": 5,
      "outputs": [
        {
          "output_type": "stream",
          "text": [
            "<xarray.Dataset>\n",
            "Dimensions:           (sv: 12, time: 2)\n",
            "Coordinates:\n",
            "  * sv                (sv) <U3 'G01' 'G03' 'G06' 'G07' ... 'G22' 'G28' 'G30'\n",
            "  * time              (time) datetime64[ns] 2019-04-22T09:59:44 2019-04-22T10:00:00\n",
            "Data variables:\n",
            "    SVclockBias       (time, sv) float64 -0.0002073 nan nan ... 0.0007676 nan\n",
            "    SVclockDrift      (time, sv) float64 -8.299e-12 nan nan ... 1.137e-13 nan\n",
            "    SVclockDriftRate  (time, sv) float64 0.0 nan nan nan nan ... nan 0.0 0.0 nan\n",
            "    IODE              (time, sv) float64 16.0 nan nan nan ... nan 73.0 34.0 nan\n",
            "    Crs               (time, sv) float64 -30.06 nan nan nan ... 13.44 30.0 nan\n",
            "    DeltaN            (time, sv) float64 4.017e-09 nan nan ... 4.049e-09 nan\n",
            "    M0                (time, sv) float64 0.9865 nan nan nan ... 2.383 -2.305 nan\n",
            "    Cuc               (time, sv) float64 -1.613e-06 nan nan ... 1.706e-06 nan\n",
            "    Eccentricity      (time, sv) float64 0.008678 nan nan ... 0.01909 nan\n",
            "    Cus               (time, sv) float64 1.084e-05 nan nan ... 1.727e-06 nan\n",
            "    sqrtA             (time, sv) float64 5.154e+03 nan nan ... 5.154e+03 nan\n",
            "    Toe               (time, sv) float64 1.224e+05 nan nan ... 1.224e+05 nan\n",
            "    Cic               (time, sv) float64 -4.098e-08 nan nan ... 2.608e-07 nan\n",
            "    Omega0            (time, sv) float64 -2.352 nan nan nan ... -1.381 1.921 nan\n",
            "    Cis               (time, sv) float64 9.686e-08 nan nan ... 1.397e-07 nan\n",
            "    Io                (time, sv) float64 0.9752 nan nan ... 0.9268 0.9822 nan\n",
            "    Crc               (time, sv) float64 179.5 nan nan nan ... 254.8 356.8 nan\n",
            "    omega             (time, sv) float64 0.6896 nan nan ... -1.366 -1.468 nan\n",
            "    OmegaDot          (time, sv) float64 -7.796e-09 nan nan ... -7.852e-09 nan\n",
            "    IDOT              (time, sv) float64 3.782e-10 nan nan ... -3.572e-13 nan\n",
            "    CodesL2           (time, sv) float64 1.0 nan nan nan nan ... nan 1.0 1.0 nan\n",
            "    GPSWeek           (time, sv) float64 2.05e+03 nan nan ... 2.05e+03 nan\n",
            "    L2Pflag           (time, sv) float64 0.0 nan nan nan nan ... nan 0.0 0.0 nan\n",
            "    SVacc             (time, sv) float64 2.4 nan nan nan nan ... nan 2.4 2.4 nan\n",
            "    health            (time, sv) float64 0.0 nan nan nan nan ... nan 0.0 0.0 nan\n",
            "    TGD               (time, sv) float64 5.588e-09 nan nan ... -1.118e-08 nan\n",
            "    IODC              (time, sv) float64 16.0 nan nan nan ... nan 73.0 34.0 nan\n",
            "    TransTime         (time, sv) float64 1.152e+05 nan nan ... 1.152e+05 nan\n",
            "Attributes:\n",
            "    ionospheric_corr_GPS:  [ 9.313e-09  1.490e-08 -5.960e-08 -1.192e-07  8.80...\n",
            "    version:               3.03\n",
            "    svtype:                ['G']\n",
            "    rinextype:             nav\n",
            "    filename:              test.19n\n"
          ],
          "name": "stdout"
        }
      ]
    },
    {
      "cell_type": "markdown",
      "metadata": {
        "id": "M-1X960vb-lY",
        "colab_type": "text"
      },
      "source": [
        "檔案讀取進來之後，放在nav這個物件，其結構如上所示。每一個變數的定義可以參考：https://ascelibrary.org/doi/pdf/10.1061/9780784411506.ap03\n",
        "可以先用nav.sv看看目前有哪幾顆衛星。"
      ]
    },
    {
      "cell_type": "code",
      "metadata": {
        "id": "V5BvX1bLaMp3",
        "colab_type": "code",
        "colab": {
          "base_uri": "https://localhost:8080/",
          "height": 105
        },
        "outputId": "fb06f213-2eb1-4de4-f400-5a7a4000cbe3"
      },
      "source": [
        "print(nav.sv)"
      ],
      "execution_count": 9,
      "outputs": [
        {
          "output_type": "stream",
          "text": [
            "<xarray.DataArray 'sv' (sv: 12)>\n",
            "array(['G01', 'G03', 'G06', 'G07', 'G08', 'G11', 'G17', 'G18', 'G19', 'G22',\n",
            "       'G28', 'G30'], dtype='<U3')\n",
            "Coordinates:\n",
            "  * sv       (sv) <U3 'G01' 'G03' 'G06' 'G07' 'G08' ... 'G19' 'G22' 'G28' 'G30'\n"
          ],
          "name": "stdout"
        }
      ]
    },
    {
      "cell_type": "markdown",
      "metadata": {
        "id": "msDiZqN4dHIG",
        "colab_type": "text"
      },
      "source": [
        "可看到有G01, G03, G06, ...等12顆衛星。接下來使用nav.sel( )選擇特定衛星，例如："
      ]
    },
    {
      "cell_type": "code",
      "metadata": {
        "id": "ZmjNYHQRdaX0",
        "colab_type": "code",
        "colab": {
          "base_uri": "https://localhost:8080/",
          "height": 721
        },
        "outputId": "e90cc7b4-187a-4a4c-a4a8-42648d5bc624"
      },
      "source": [
        "G1 = nav.sel(sv='G01')\n",
        "print(G1)"
      ],
      "execution_count": 10,
      "outputs": [
        {
          "output_type": "stream",
          "text": [
            "<xarray.Dataset>\n",
            "Dimensions:           (time: 2)\n",
            "Coordinates:\n",
            "    sv                <U3 'G01'\n",
            "  * time              (time) datetime64[ns] 2019-04-22T09:59:44 2019-04-22T10:00:00\n",
            "Data variables:\n",
            "    SVclockBias       (time) float64 -0.0002073 nan\n",
            "    SVclockDrift      (time) float64 -8.299e-12 nan\n",
            "    SVclockDriftRate  (time) float64 0.0 nan\n",
            "    IODE              (time) float64 16.0 nan\n",
            "    Crs               (time) float64 -30.06 nan\n",
            "    DeltaN            (time) float64 4.017e-09 nan\n",
            "    M0                (time) float64 0.9865 nan\n",
            "    Cuc               (time) float64 -1.613e-06 nan\n",
            "    Eccentricity      (time) float64 0.008678 nan\n",
            "    Cus               (time) float64 1.084e-05 nan\n",
            "    sqrtA             (time) float64 5.154e+03 nan\n",
            "    Toe               (time) float64 1.224e+05 nan\n",
            "    Cic               (time) float64 -4.098e-08 nan\n",
            "    Omega0            (time) float64 -2.352 nan\n",
            "    Cis               (time) float64 9.686e-08 nan\n",
            "    Io                (time) float64 0.9752 nan\n",
            "    Crc               (time) float64 179.5 nan\n",
            "    omega             (time) float64 0.6896 nan\n",
            "    OmegaDot          (time) float64 -7.796e-09 nan\n",
            "    IDOT              (time) float64 3.782e-10 nan\n",
            "    CodesL2           (time) float64 1.0 nan\n",
            "    GPSWeek           (time) float64 2.05e+03 nan\n",
            "    L2Pflag           (time) float64 0.0 nan\n",
            "    SVacc             (time) float64 2.4 nan\n",
            "    health            (time) float64 0.0 nan\n",
            "    TGD               (time) float64 5.588e-09 nan\n",
            "    IODC              (time) float64 16.0 nan\n",
            "    TransTime         (time) float64 1.152e+05 nan\n",
            "Attributes:\n",
            "    ionospheric_corr_GPS:  [ 9.313e-09  1.490e-08 -5.960e-08 -1.192e-07  8.80...\n",
            "    version:               3.03\n",
            "    svtype:                ['G']\n",
            "    rinextype:             nav\n",
            "    filename:              test.19n\n"
          ],
          "name": "stdout"
        }
      ]
    },
    {
      "cell_type": "markdown",
      "metadata": {
        "id": "CncIEbKYdlf4",
        "colab_type": "text"
      },
      "source": [
        "將G01衛星的導航資料取出來，存放在G1這個物件。G1有兩個columns，第一個column有資料，第二個column沒有資料 ( 顯示為nan)。\n",
        "參考https://ascelibrary.org/doi/pdf/10.1061/9780784411506.ap0，假設要計算delta_t_sv："
      ]
    },
    {
      "cell_type": "code",
      "metadata": {
        "id": "SsDGeT6ifYts",
        "colab_type": "code",
        "colab": {
          "base_uri": "https://localhost:8080/",
          "height": 193
        },
        "outputId": "9490186f-055d-4aeb-fdc3-06f891c78fa7"
      },
      "source": [
        "print(G1.IODC)\n",
        "t = 1 #這邊要用t-toc代入，方便起見，先令為1。toc就是上面的IODC\n",
        "delta_t_sv = G1.SVclockBias + G1.SVclockDrift*t + G1.SVclockDriftRate * t**2\n",
        "print(delta_t_sv)"
      ],
      "execution_count": 13,
      "outputs": [
        {
          "output_type": "stream",
          "text": [
            "<xarray.DataArray 'IODC' (time: 2)>\n",
            "array([16., nan])\n",
            "Coordinates:\n",
            "    sv       <U3 'G01'\n",
            "  * time     (time) datetime64[ns] 2019-04-22T09:59:44 2019-04-22T10:00:00\n",
            "<xarray.DataArray (time: 2)>\n",
            "array([-0.000207,       nan])\n",
            "Coordinates:\n",
            "    sv       <U3 'G01'\n",
            "  * time     (time) datetime64[ns] 2019-04-22T09:59:44 2019-04-22T10:00:00\n"
          ],
          "name": "stdout"
        }
      ]
    },
    {
      "cell_type": "markdown",
      "metadata": {
        "id": "NIr5li3hg5-6",
        "colab_type": "text"
      },
      "source": [
        "To be continued...."
      ]
    }
  ]
}